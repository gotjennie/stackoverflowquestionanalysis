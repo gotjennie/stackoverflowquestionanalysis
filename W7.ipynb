{
 "cells": [
  {
   "cell_type": "code",
   "execution_count": 22,
   "metadata": {
    "collapsed": false
   },
   "outputs": [],
   "source": [
    "import urllib2\n",
    "import requests\n",
    "import json\n",
    "import pickle\n",
    "import pprint as pp\n",
    "# from BeautifulSoup import BeautifulSoup\n",
    "import re\n",
    "\n",
    "import pandas as pd\n",
    "from IPython.display import display\n",
    "\n",
    "import matplotlib.pyplot as plt\n",
    "import matplotlib\n",
    "% matplotlib inline"
   ]
  },
  {
   "cell_type": "code",
   "execution_count": 30,
   "metadata": {
    "collapsed": false
   },
   "outputs": [
    {
     "data": {
      "text/html": [
       "<div>\n",
       "<table border=\"1\" class=\"dataframe\">\n",
       "  <thead>\n",
       "    <tr style=\"text-align: right;\">\n",
       "      <th></th>\n",
       "      <th>acceptedAnswerId</th>\n",
       "      <th>averageLengthOfCodeSnippet</th>\n",
       "      <th>englishNumChars</th>\n",
       "      <th>englishNumWords</th>\n",
       "      <th>linesInEachPreCodeSnippet</th>\n",
       "      <th>numQuestionMarks</th>\n",
       "      <th>numberImages</th>\n",
       "      <th>numberLinks</th>\n",
       "      <th>numberOfCodeSnippets</th>\n",
       "      <th>totalLinesOfCode</th>\n",
       "    </tr>\n",
       "  </thead>\n",
       "  <tbody>\n",
       "    <tr>\n",
       "      <th>0</th>\n",
       "      <td>43853581.0</td>\n",
       "      <td>2.000000</td>\n",
       "      <td>273</td>\n",
       "      <td>51</td>\n",
       "      <td>[2]</td>\n",
       "      <td>2</td>\n",
       "      <td>0</td>\n",
       "      <td>1</td>\n",
       "      <td>1</td>\n",
       "      <td>2</td>\n",
       "    </tr>\n",
       "    <tr>\n",
       "      <th>1</th>\n",
       "      <td>43902649.0</td>\n",
       "      <td>11.400000</td>\n",
       "      <td>391</td>\n",
       "      <td>66</td>\n",
       "      <td>[16, 9, 5, 12, 15]</td>\n",
       "      <td>0</td>\n",
       "      <td>0</td>\n",
       "      <td>0</td>\n",
       "      <td>5</td>\n",
       "      <td>57</td>\n",
       "    </tr>\n",
       "    <tr>\n",
       "      <th>2</th>\n",
       "      <td>NaN</td>\n",
       "      <td>0.000000</td>\n",
       "      <td>308</td>\n",
       "      <td>55</td>\n",
       "      <td>[]</td>\n",
       "      <td>1</td>\n",
       "      <td>0</td>\n",
       "      <td>0</td>\n",
       "      <td>0</td>\n",
       "      <td>0</td>\n",
       "    </tr>\n",
       "    <tr>\n",
       "      <th>3</th>\n",
       "      <td>43881370.0</td>\n",
       "      <td>0.000000</td>\n",
       "      <td>725</td>\n",
       "      <td>128</td>\n",
       "      <td>[]</td>\n",
       "      <td>2</td>\n",
       "      <td>0</td>\n",
       "      <td>4</td>\n",
       "      <td>0</td>\n",
       "      <td>0</td>\n",
       "    </tr>\n",
       "    <tr>\n",
       "      <th>4</th>\n",
       "      <td>43823830.0</td>\n",
       "      <td>1.833333</td>\n",
       "      <td>1093</td>\n",
       "      <td>178</td>\n",
       "      <td>[2, 1, 2, 1, 4, 1]</td>\n",
       "      <td>1</td>\n",
       "      <td>0</td>\n",
       "      <td>0</td>\n",
       "      <td>6</td>\n",
       "      <td>11</td>\n",
       "    </tr>\n",
       "  </tbody>\n",
       "</table>\n",
       "</div>"
      ],
      "text/plain": [
       "   acceptedAnswerId  averageLengthOfCodeSnippet  englishNumChars  \\\n",
       "0        43853581.0                    2.000000              273   \n",
       "1        43902649.0                   11.400000              391   \n",
       "2               NaN                    0.000000              308   \n",
       "3        43881370.0                    0.000000              725   \n",
       "4        43823830.0                    1.833333             1093   \n",
       "\n",
       "   englishNumWords linesInEachPreCodeSnippet  numQuestionMarks  numberImages  \\\n",
       "0               51                       [2]                 2             0   \n",
       "1               66        [16, 9, 5, 12, 15]                 0             0   \n",
       "2               55                        []                 1             0   \n",
       "3              128                        []                 2             0   \n",
       "4              178        [2, 1, 2, 1, 4, 1]                 1             0   \n",
       "\n",
       "   numberLinks  numberOfCodeSnippets  totalLinesOfCode  \n",
       "0            1                     1                 2  \n",
       "1            0                     5                57  \n",
       "2            0                     0                 0  \n",
       "3            4                     0                 0  \n",
       "4            0                     6                11  "
      ]
     },
     "metadata": {},
     "output_type": "display_data"
    }
   ],
   "source": [
    "r = pickle.load(open('questionWithAccepted.txt'))\n",
    "# pp.pprint(r)\n",
    "df = pd.DataFrame.from_dict(r)\n",
    "display(df.head())"
   ]
  },
  {
   "cell_type": "code",
   "execution_count": 31,
   "metadata": {
    "collapsed": false
   },
   "outputs": [
    {
     "data": {
      "image/png": "[encoded data removed]",
      "text/plain": [
       "<matplotlib.figure.Figure at 0x1166b7690>"
      ]
     },
     "metadata": {},
     "output_type": "display_data"
    }
   ],
   "source": [
    "plt.plot(df['numQuestionMarks'], df['englishNumChars'], '*')\n",
    "plt.xlabel('Number of Question Marks')\n",
    "plt.ylabel('Number of Number of English Characters')\n",
    "plt.show()"
   ]
  }
 ],
 "metadata": {
  "anaconda-cloud": {},
  "kernelspec": {
   "display_name": "Python [default]",
   "language": "python",
   "name": "python2"
  },
  "language_info": {
   "codemirror_mode": {
    "name": "ipython",
    "version": 2
   },
   "file_extension": ".py",
   "mimetype": "text/x-python",
   "name": "python",
   "nbconvert_exporter": "python",
   "pygments_lexer": "ipython2",
   "version": "2.7.12"
  }
 },
 "nbformat": 4,
 "nbformat_minor": 1
}
